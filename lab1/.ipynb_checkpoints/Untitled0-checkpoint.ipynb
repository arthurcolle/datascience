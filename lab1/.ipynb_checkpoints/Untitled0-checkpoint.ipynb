{
 "metadata": {
  "name": "",
  "signature": "sha256:fdf3b05f44d82c76ae997f97aa79b50352734193e65e4cdaf9345ebf9f55ddc6"
 },
 "nbformat": 3,
 "nbformat_minor": 0,
 "worksheets": []
}