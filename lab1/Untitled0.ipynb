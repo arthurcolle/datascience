{
 "metadata": {
  "name": "",
  "signature": "sha256:043d4f87370db4d120093b4006db38f03e76cf87ecf5231d73a9f55c369ed0ef"
 },
 "nbformat": 3,
 "nbformat_minor": 0,
 "worksheets": [
  {
   "cells": [
    {
     "cell_type": "code",
     "collapsed": false,
     "input": [
      "import numpy as np\n",
      "\n",
      "# Import linear regression and the diabetes dataset\n",
      "from sklearn.linear_model import LinearRegression\n",
      "from sklearn.datasets import load_diabetes\n",
      "\n",
      "# Load the diabetes dataset\n",
      "diabetes = load_diabetes()\n",
      "\n",
      "# Use only one feature -- the following code creates a 1-dimensional \n",
      "# array containing just the second feature\n",
      "diabetes_X = diabetes.data[:, np.newaxis]\n",
      "diabetes_X_temp = diabetes_X[:,:,2]\n",
      "\n",
      "# Split the data into training/testing sets -- we will use all but last 20 elements for training\n",
      "diabetes_X_train = diabetes_X_temp[:-20]\n",
      "diabetes_X_test = diabetes_X_temp[-20:]\n",
      "\n",
      "# Split the targets into training/testing sets\n",
      "diabetes_y_train = diabetes.target[:-20]\n",
      "diabetes_y_test = diabetes.target[-20:]\n",
      "\n",
      "# Create linear regression object\n",
      "regr = LinearRegression()\n",
      "\n",
      "\n",
      "# Split the data into training/testing sets\n",
      "diabetes_X_train = diabetes.data[:-20]\n",
      "diabetes_X_test = diabetes.data[-20:]\n",
      "\n",
      "# Split the targets into training/testing sets\n",
      "diabetes_y_train = diabetes.target[:-20]\n",
      "diabetes_y_test = diabetes.target[-20:]\n",
      "\n",
      "# Create linear regression object\n",
      "regr = LinearRegression()\n",
      "\n",
      "# Train the model using the training sets\n",
      "regr.fit(diabetes_X_train, diabetes_y_train)\n",
      "regr.fit(diabetes_X_train[:,range(1,3)], diabetes_y_train)\n",
      "\n",
      "print diabetes_X_train[0]\n",
      "\n",
      "MSE = 0\n",
      "for i in range(0,20):    \n",
      "    MSE += (np.mean((regr.predict(diabetes_X_test[i, range(1,3)]) - diabetes_y_test[i]) ** 2))\n",
      "# print MSE"
     ],
     "language": "python",
     "metadata": {},
     "outputs": [
      {
       "output_type": "stream",
       "stream": "stdout",
       "text": [
        "[ 0.03807591  0.05068012  0.06169621  0.02187235 -0.0442235  -0.03482076\n",
        " -0.04340085 -0.00259226  0.01990842 -0.01764613]\n"
       ]
      }
     ],
     "prompt_number": 43
    },
    {
     "cell_type": "code",
     "collapsed": false,
     "input": [],
     "language": "python",
     "metadata": {},
     "outputs": [],
     "prompt_number": 39
    },
    {
     "cell_type": "code",
     "collapsed": false,
     "input": [],
     "language": "python",
     "metadata": {},
     "outputs": [],
     "prompt_number": 29
    },
    {
     "cell_type": "code",
     "collapsed": false,
     "input": [],
     "language": "python",
     "metadata": {},
     "outputs": []
    }
   ],
   "metadata": {}
  }
 ]
}